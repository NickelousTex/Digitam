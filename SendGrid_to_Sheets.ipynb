{
 "cells": [
  {
   "cell_type": "code",
   "execution_count": 36,
   "metadata": {},
   "outputs": [],
   "source": [
    "# Needed for AWS\n",
    "# pip install pip install gspread oauth2client\n",
    "# pip install --upgrade google-api-python-client oauth2client\n"
   ]
  },
  {
   "cell_type": "markdown",
   "metadata": {},
   "source": [
    "## Pandas Work"
   ]
  },
  {
   "cell_type": "code",
   "execution_count": 42,
   "metadata": {},
   "outputs": [],
   "source": [
    "import pandas as pd\n",
    "from datetime import date\n",
    "import calendar"
   ]
  },
  {
   "cell_type": "code",
   "execution_count": 83,
   "metadata": {},
   "outputs": [],
   "source": [
    "df = pd.read_csv('bulk_campaign_stats_export.csv',usecols=['Campaign Name','Date','Requests', \n",
    "                                                           'Delivered', 'Unique Opens', 'Unique Clicks',\n",
    "                                                          'Unsubscribes'])"
   ]
  },
  {
   "cell_type": "code",
   "execution_count": 84,
   "metadata": {},
   "outputs": [],
   "source": [
    "def category_decide(category_series):\n",
    "    category_dic = { \"MWF\":\"MWF\", \"Refund\":\"Refund\",\"Promo\": \"National Promo\",\n",
    "                    \"MWP\":\"Field Marketing Promo\", \n",
    "                    }\n",
    "    return_list = []\n",
    "    for row in list(category_series):\n",
    "        for key in category_dic.keys():\n",
    "            if key in row:\n",
    "                return_list.append((category_dic[key]))\n",
    "    return return_list"
   ]
  },
  {
   "cell_type": "code",
   "execution_count": 105,
   "metadata": {
    "scrolled": false
   },
   "outputs": [
    {
     "name": "stdout",
     "output_type": "stream",
     "text": [
      "['2018-10-24', '2018-10-29', '2018-11-01']\n"
     ]
    },
    {
     "name": "stderr",
     "output_type": "stream",
     "text": [
      "/home/pipingkid/anaconda3/lib/python3.6/site-packages/ipykernel_launcher.py:11: SettingWithCopyWarning: \n",
      "A value is trying to be set on a copy of a slice from a DataFrame.\n",
      "Try using .loc[row_indexer,col_indexer] = value instead\n",
      "\n",
      "See the caveats in the documentation: http://pandas.pydata.org/pandas-docs/stable/indexing.html#indexing-view-versus-copy\n",
      "  # This is added back by InteractiveShellApp.init_path()\n",
      "/home/pipingkid/anaconda3/lib/python3.6/site-packages/ipykernel_launcher.py:12: SettingWithCopyWarning: \n",
      "A value is trying to be set on a copy of a slice from a DataFrame.\n",
      "Try using .loc[row_indexer,col_indexer] = value instead\n",
      "\n",
      "See the caveats in the documentation: http://pandas.pydata.org/pandas-docs/stable/indexing.html#indexing-view-versus-copy\n",
      "  if sys.path[0] == '':\n",
      "/home/pipingkid/anaconda3/lib/python3.6/site-packages/ipykernel_launcher.py:13: SettingWithCopyWarning: \n",
      "A value is trying to be set on a copy of a slice from a DataFrame.\n",
      "Try using .loc[row_indexer,col_indexer] = value instead\n",
      "\n",
      "See the caveats in the documentation: http://pandas.pydata.org/pandas-docs/stable/indexing.html#indexing-view-versus-copy\n",
      "  del sys.path[0]\n",
      "/home/pipingkid/anaconda3/lib/python3.6/site-packages/ipykernel_launcher.py:15: SettingWithCopyWarning: \n",
      "A value is trying to be set on a copy of a slice from a DataFrame.\n",
      "Try using .loc[row_indexer,col_indexer] = value instead\n",
      "\n",
      "See the caveats in the documentation: http://pandas.pydata.org/pandas-docs/stable/indexing.html#indexing-view-versus-copy\n",
      "  from ipykernel import kernelapp as app\n",
      "/home/pipingkid/anaconda3/lib/python3.6/site-packages/ipykernel_launcher.py:16: SettingWithCopyWarning: \n",
      "A value is trying to be set on a copy of a slice from a DataFrame.\n",
      "Try using .loc[row_indexer,col_indexer] = value instead\n",
      "\n",
      "See the caveats in the documentation: http://pandas.pydata.org/pandas-docs/stable/indexing.html#indexing-view-versus-copy\n",
      "  app.launch_new_instance()\n"
     ]
    }
   ],
   "source": [
    "#Get every 8th one, which should be 'campaign total'\n",
    "total_df = df[df['Date'] == 'Campaign Total']\n",
    "# get the prior dates for the campaigns, index and subtract 1\n",
    "campaign_dates = (df[df['Date'] == 'Campaign Total'].index-7).values\n",
    "send_dates_list = df.iloc[campaign_dates]['Date'].tolist()\n",
    "print(send_dates_list)\n",
    "send_dates = pd.to_datetime(send_dates_list)\n",
    "# Now we need to incorporate adding the day of the week\n",
    "day_names = [day.day_name() for day in send_dates]\n",
    "#A add in columns\n",
    "total_df['Date'] = send_dates.strftime('%m/%d/%Y')\n",
    "total_df['Day Of Week'] = day_names\n",
    "total_df['Category'] = category_decide(total_df['Campaign Name'])\n",
    "# #Add in Old Columns with zero\n",
    "total_df['Opens'] = \"\"\n",
    "total_df['Clicks'] = \"\"\n",
    "# # reoder columns just for matching up reading\n",
    "total_df = total_df[['Campaign Name','Date','Day Of Week','Category', 'Requests', 'Delivered','Opens','Unique Opens',\n",
    "       'Clicks','Unique Clicks', 'Unsubscribes']]"
   ]
  },
  {
   "cell_type": "code",
   "execution_count": 106,
   "metadata": {},
   "outputs": [
    {
     "data": {
      "text/plain": [
       "7     10/24/2018\n",
       "15    10/29/2018\n",
       "23    11/01/2018\n",
       "Name: Date, dtype: object"
      ]
     },
     "execution_count": 106,
     "metadata": {},
     "output_type": "execute_result"
    }
   ],
   "source": [
    "total_df['Date']"
   ]
  },
  {
   "cell_type": "markdown",
   "metadata": {},
   "source": [
    "# Lets try GSpread"
   ]
  },
  {
   "cell_type": "markdown",
   "metadata": {},
   "source": [
    "## And for something simpler"
   ]
  },
  {
   "cell_type": "markdown",
   "metadata": {},
   "source": [
    "Note: <b>The client email needs to be given access to the sheet as an editor for read/write permissions.</b> \n",
    "-Ensure that creds is avalible to get the token json for HTTP authentication.\n",
    "-Writing is realitively simple with each row can be crafted. This should be done via pandas."
   ]
  },
  {
   "cell_type": "code",
   "execution_count": 107,
   "metadata": {},
   "outputs": [],
   "source": [
    "new_entries = total_df.values.tolist()"
   ]
  },
  {
   "cell_type": "code",
   "execution_count": 108,
   "metadata": {},
   "outputs": [
    {
     "data": {
      "text/plain": [
       "'10/24/2018'"
      ]
     },
     "execution_count": 108,
     "metadata": {},
     "output_type": "execute_result"
    }
   ],
   "source": [
    "new_entries[0][1]"
   ]
  },
  {
   "cell_type": "code",
   "execution_count": 111,
   "metadata": {},
   "outputs": [],
   "source": [
    "#Access the worksheet\n",
    "## Must have client_email shared with in the google sheet itself!\n",
    "import gspread\n",
    "from oauth2client.service_account import ServiceAccountCredentials\n",
    "\n",
    "credentials = ServiceAccountCredentials.from_json_keyfile_name(\n",
    "                'client_secret.json',\n",
    "                ['https://spreadsheets.google.com/feeds'])\n",
    "client = gspread.authorize(credentials)\n",
    "\n",
    "    #Put in the specific google sheet URL to access. MUST BE SHARED WITH THE CLIENT ID FROM CREDENTIALS\n",
    "sheet = client.open_by_url('https://docs.google.com/spreadsheets/d/1pUiI-Bjhuv96P9kxs4ZYWtyqkbSryreLGCh-tof1Oto/edit?usp=sharing')\n",
    "worksheet = sheet.get_worksheet(0)\n"
   ]
  },
  {
   "cell_type": "code",
   "execution_count": 112,
   "metadata": {},
   "outputs": [],
   "source": [
    "for i in range(len(new_entries)):\n",
    "    worksheet.append_row(new_entries[i],value_input_option='USER_ENTERED')"
   ]
  },
  {
   "cell_type": "code",
   "execution_count": null,
   "metadata": {},
   "outputs": [],
   "source": []
  },
  {
   "cell_type": "code",
   "execution_count": 36,
   "metadata": {},
   "outputs": [],
   "source": []
  }
 ],
 "metadata": {
  "kernelspec": {
   "display_name": "Python 3",
   "language": "python",
   "name": "python3"
  },
  "language_info": {
   "codemirror_mode": {
    "name": "ipython",
    "version": 3
   },
   "file_extension": ".py",
   "mimetype": "text/x-python",
   "name": "python",
   "nbconvert_exporter": "python",
   "pygments_lexer": "ipython3",
   "version": "3.6.6"
  }
 },
 "nbformat": 4,
 "nbformat_minor": 2
}
